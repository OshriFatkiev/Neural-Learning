{
 "cells": [
  {
   "cell_type": "markdown",
   "id": "b185a217",
   "metadata": {},
   "source": [
    "# SVM and The Kernel Trick \n",
    "\n",
    "## Oshri Fatkiev\n",
    "\n",
    "In this notebook, we are going to use two learning algorithms - Perceptron and AdaTron\n",
    "1. Linear separation using linear kernel \n",
    "    1. The number of SVM's as a function of the number of samples\n",
    "    2. Generalization preformence of $\\vec{\\omega}^{*}$ as a function of the number of samples\n",
    "    3. Comparison between **AdaTron** and **Perceptron** algorithms\n",
    "    4. Plotting the cosine distance between  $\\vec{\\omega}^{*}$ and the true plane\n",
    "2. Nonlinear separation using linear kernel\n",
    "\n",
    "## Linear separation using linear kernel\n",
    "\n",
    "First, let us load the libraries and algorithms we need"
   ]
  },
  {
   "cell_type": "code",
   "execution_count": 1,
   "id": "a9a90fee",
   "metadata": {
    "scrolled": true
   },
   "outputs": [],
   "source": [
    "import numpy as np\n",
    "import matplotlib.pyplot as plt\n",
    "\n",
    "from scipy.io import loadmat\n",
    "from adatron import adatron\n",
    "plt.style.use(['science', 'notebook', 'grid'])"
   ]
  },
  {
   "cell_type": "markdown",
   "id": "43b5db4d",
   "metadata": {},
   "source": [
    "Next, we load the file contains the data we are going to work with "
   ]
  },
  {
   "cell_type": "code",
   "execution_count": 2,
   "id": "f4571c36",
   "metadata": {},
   "outputs": [],
   "source": [
    "filename = 'data_10D.mat'\n",
    "M = loadmat(filename)"
   ]
  },
  {
   "cell_type": "markdown",
   "id": "5436d1b9",
   "metadata": {},
   "source": [
    "### 1. The number of SVM's as a function of the number of samples\n",
    "\n",
    "Before we begin, let's write a function `train_test_split` that recieves the data `M` and the number of samples we want for training `P`, and randomly chooses the training set (and thus the testing set as well)"
   ]
  },
  {
   "cell_type": "code",
   "execution_count": 3,
   "id": "9a69221f",
   "metadata": {},
   "outputs": [],
   "source": [
    "def train_test_split(M, P):\n",
    "    shuffled_idxs = np.random.permutation(len(M['y0']))\n",
    "    train_idxs, test_idxs = shuffled_idxs[:P], shuffled_idxs[P:]\n",
    "    X_train, X_test = M['X'][:, train_idxs], M['X'][:, test_idxs]\n",
    "    y_train, y_test = M['y0'][train_idxs], M['y0'][test_idxs]\n",
    "    return X_train, X_test, y_train, y_test"
   ]
  },
  {
   "cell_type": "markdown",
   "id": "a273b02e",
   "metadata": {},
   "source": [
    "Now we are ready to start our computations. Our first goal is to try to determine the relation between the average number of SVM's (support vector machines) needed for the solution and the number of samples `P`."
   ]
  },
  {
   "cell_type": "code",
   "execution_count": 4,
   "id": "bd1ec037",
   "metadata": {},
   "outputs": [
    {
     "name": "stdout",
     "output_type": "stream",
     "text": [
      "P=10\n",
      "P=50\n",
      "P=100\n",
      "P=300\n",
      "Done!\n"
     ]
    }
   ],
   "source": [
    "Ps = [10, 50, 100, 300]\n",
    "N_REPS = 1\n",
    "\n",
    "n_SVs = np.zeros(len(Ps))\n",
    "for i,P in enumerate(Ps):\n",
    "    print(r'P={}'.format(P))\n",
    "    svm_stats = np.zeros(N_REPS)\n",
    "    for j in np.arange(N_REPS):\n",
    "        X_train, X_test, y_train, y_test = train_test_split(M, P)\n",
    "        K = X_train.T @ X_train\n",
    "        converged, A = adatron(K, y_train)\n",
    "        if converged:\n",
    "            svm_stats[j] = len(A[-1] > 0)\n",
    "    n_SVs[i] = np.mean(svm_stats) # should I take only those that converged? [np.nonzero(svm_stats)]?\n",
    "        \n",
    "print('Done!')"
   ]
  },
  {
   "cell_type": "markdown",
   "id": "90beefee",
   "metadata": {},
   "source": [
    "Plotting the number of support vectors `n_SVMs` as a function of `P` we get"
   ]
  },
  {
   "cell_type": "code",
   "execution_count": 5,
   "id": "34b61bcb",
   "metadata": {},
   "outputs": [
    {
     "data": {
      "image/png": "[encoded data removed]",
      "text/plain": [
       "<Figure size 576x432 with 1 Axes>"
      ]
     },
     "metadata": {
      "needs_background": "light"
     },
     "output_type": "display_data"
    }
   ],
   "source": [
    "plt.plot(Ps, n_SVs, '--o')\n",
    "plt.xlabel(r'number of training samples')\n",
    "plt.ylabel(r'number of support vectors')\n",
    "plt.show()"
   ]
  },
  {
   "cell_type": "markdown",
   "id": "68d82dcb",
   "metadata": {},
   "source": [
    "As we can see... \n",
    "\n",
    "### 2. Generalization preformence of $\\vec{\\omega}^{*}$ as a function of the number of samples\n",
    "Next, let's see what is the generalization preformence of the optimal solution as a function of `P` "
   ]
  },
  {
   "cell_type": "code",
   "execution_count": null,
   "id": "42c1a3c8",
   "metadata": {},
   "outputs": [],
   "source": []
  },
  {
   "cell_type": "markdown",
   "id": "f4c99a71",
   "metadata": {},
   "source": [
    "No suprises here...\n",
    "\n",
    "### 3. Comparison between AdaTron and Perceptron algorithms"
   ]
  },
  {
   "cell_type": "code",
   "execution_count": 6,
   "id": "eb897ad9",
   "metadata": {},
   "outputs": [
    {
     "ename": "ModuleNotFoundError",
     "evalue": "No module named 'perceptron'",
     "output_type": "error",
     "traceback": [
      "\u001b[1;31m---------------------------------------------------------------------------\u001b[0m",
      "\u001b[1;31mModuleNotFoundError\u001b[0m                       Traceback (most recent call last)",
      "\u001b[1;32m~\\AppData\\Local\\Temp/ipykernel_13632/1805040694.py\u001b[0m in \u001b[0;36m<module>\u001b[1;34m\u001b[0m\n\u001b[0;32m      1\u001b[0m \u001b[1;31m# comparing perceptron and adatron\u001b[0m\u001b[1;33m\u001b[0m\u001b[1;33m\u001b[0m\u001b[0m\n\u001b[1;32m----> 2\u001b[1;33m \u001b[1;32mfrom\u001b[0m \u001b[0mperceptron\u001b[0m \u001b[1;32mimport\u001b[0m \u001b[0mperceptron\u001b[0m\u001b[1;33m\u001b[0m\u001b[1;33m\u001b[0m\u001b[0m\n\u001b[0m",
      "\u001b[1;31mModuleNotFoundError\u001b[0m: No module named 'perceptron'"
     ]
    }
   ],
   "source": [
    "# comparing perceptron and adatron\n",
    "from perceptron import perceptron"
   ]
  },
  {
   "cell_type": "markdown",
   "id": "39f1c6a5",
   "metadata": {},
   "source": [
    "And of course...\n",
    "\n",
    "### 4. Plotting the cosine distance between $\\vec{\\omega}^{*}$ and the true plane"
   ]
  },
  {
   "cell_type": "code",
   "execution_count": null,
   "id": "210dcebf",
   "metadata": {},
   "outputs": [],
   "source": [
    "# bonus question"
   ]
  },
  {
   "cell_type": "markdown",
   "id": "44496569",
   "metadata": {},
   "source": [
    "## Nonlinear separation using the kernel trick"
   ]
  }
 ],
 "metadata": {
  "kernelspec": {
   "display_name": "Python 3 (ipykernel)",
   "language": "python",
   "name": "python3"
  },
  "language_info": {
   "codemirror_mode": {
    "name": "ipython",
    "version": 3
   },
   "file_extension": ".py",
   "mimetype": "text/x-python",
   "name": "python",
   "nbconvert_exporter": "python",
   "pygments_lexer": "ipython3",
   "version": "3.9.7"
  }
 },
 "nbformat": 4,
 "nbformat_minor": 5
}
